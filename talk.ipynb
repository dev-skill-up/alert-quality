{
 "cells": [
  {
   "cell_type": "markdown",
   "metadata": {},
   "source": [
    "```{=latex}\n",
    "\\usepackage{hyperref}\n",
    "\\usepackage{graphicx}\n",
    "\\usepackage{listings}\n",
    "\\usepackage{textcomp}\n",
    "\\usepackage{fancyvrb}\n",
    "\n",
    "\\newcommand{\\passthrough}[1]{\\lstset{mathescape=false}#1\\lstset{mathescape=true}}\n",
    "\\newcommand{\\tightlist}{}\n",
    "```"
   ]
  },
  {
   "cell_type": "markdown",
   "metadata": {},
   "source": [
    "```{=latex}\n",
    "\\title{Modeling Alert Quality}\n",
    "\\author{Moshe Zadka -- https://cobordism.com}\n",
    "\\date{}\n",
    "\n",
    "\\begin{document}\n",
    "\\begin{titlepage}\n",
    "\\maketitle\n",
    "\\end{titlepage}\n",
    "\n",
    "\\frame{\\titlepage}\n",
    "```"
   ]
  },
  {
   "cell_type": "markdown",
   "metadata": {},
   "source": [
    "```{=latex}\n",
    "\\begin{frame}\n",
    "\\frametitle{Acknowledgement of Country}\n",
    "\n",
    "Belmont (in San Francisco Bay Area Peninsula)\n",
    "\n",
    "Ancestral homeland of the Ramaytush Ohlone\n",
    "\n",
    "\\end{frame}\n",
    "```"
   ]
  },
  {
   "cell_type": "markdown",
   "metadata": {
    "tags": []
   },
   "source": [
    "## What are alerts?"
   ]
  },
  {
   "cell_type": "markdown",
   "metadata": {},
   "source": [
    "Before I talk about alert\n",
    "*quality*,\n",
    "I want to make sure we are all on the same page:\n",
    "what are alerts?\n",
    "Whether good or bad,\n",
    "it is important to distinguish them from other things.\n",
    "\n",
    "```{=latex}\n",
    "\\begin{frame}\n",
    "\\frametitle{What are alerts?}\n",
    "\n",
    "Good or bad\n",
    "\n",
    "\\end{frame}\n",
    "```"
   ]
  },
  {
   "cell_type": "markdown",
   "metadata": {
    "tags": []
   },
   "source": [
    "### Monitoring\n",
    "\n",
    "There can be different models of alerts.\n",
    "This is a specific,\n",
    "but popular model.\n",
    "If alerts are to be about a system,\n",
    "then the system has to send some monitoring,\n",
    "or observability,\n",
    "data somewhere.\n",
    "\n",
    "If we want more than a single data point to cause an alert,\n",
    "this data sink has to aggregate the data.\n",
    "This is going to be the\n",
    "*source*\n",
    "of the alerts."
   ]
  },
  {
   "cell_type": "markdown",
   "metadata": {},
   "source": [
    "```{=latex}\n",
    "\\begin{frame}\n",
    "\\frametitle{Monitoring}\n",
    "\n",
    "System $\\to$ Aggregator\n",
    "\n",
    "\\end{frame}\n",
    "```"
   ]
  },
  {
   "cell_type": "markdown",
   "metadata": {
    "tags": []
   },
   "source": [
    "### Event\n",
    "\n",
    "A system that constantly alerts is as useless as a system that always alerts.\n",
    "If alerts are based on data,\n",
    "and should not be sent all the time,\n",
    "we can model an alert as a kind of\n",
    "*event*.\n",
    "The definition of an event is that some query against the aggregated data\n",
    "returns an atypical value.\n",
    "\n",
    "But not events are alerts!"
   ]
  },
  {
   "cell_type": "markdown",
   "metadata": {},
   "source": [
    "```{=latex}\n",
    "\\begin{frame}\n",
    "\\frametitle{Event}\n",
    "\n",
    "Aggregator query \\pause atypical value\n",
    "\n",
    "\\end{frame}\n",
    "```"
   ]
  },
  {
   "cell_type": "markdown",
   "metadata": {
    "tags": []
   },
   "source": [
    "### Alert: Low priority\n",
    "\n",
    "A\n",
    "*low priority*\n",
    "alert is when an event indicates a\n",
    "*problem*,\n",
    "but the problem is not urgent.\n",
    "This kind of alert usually shows up in e-mail,\n",
    "as a task,\n",
    "or in slack."
   ]
  },
  {
   "cell_type": "markdown",
   "metadata": {},
   "source": [
    "```{=latex}\n",
    "\\begin{frame}\n",
    "\\frametitle{Low priority alert}\n",
    "\n",
    "Bad event (not urgent)\n",
    "\n",
    "\\end{frame}\n",
    "```"
   ]
  },
  {
   "cell_type": "markdown",
   "metadata": {
    "tags": []
   },
   "source": [
    "### Alert: High priority\n",
    "\n",
    "A\n",
    "*high-priority*\n",
    "alert is an event that we have decided should require an immediate action.\n",
    "This kind of alert will usually text,\n",
    "ring,\n",
    "or otherwise cause sounds,\n",
    "lights,\n",
    "and vibrations from a mobile device.\n",
    "\n",
    "\n",
    "This is intended to draw immediate attention,\n",
    "potentially waking someone up.\n",
    "These alerts,\n",
    "high priority ones,\n",
    "are the focus of this talk.\n",
    "\n",
    "It is those alerts whose quality we want to measure."
   ]
  },
  {
   "cell_type": "markdown",
   "metadata": {},
   "source": [
    "```{=latex}\n",
    "\\begin{frame}\n",
    "\\frametitle{High priority alert}\n",
    "\n",
    "Break-fix needed! \\pause\n",
    "\n",
    "Focus of this talk\n",
    "\n",
    "\\end{frame}\n",
    "```"
   ]
  },
  {
   "cell_type": "markdown",
   "metadata": {
    "tags": []
   },
   "source": [
    "## What is alert quality?\n",
    "\n",
    "So now that we have decided what alerts to measure,\n",
    "what exactly will we measure?\n",
    "It is useful to break the measurement into measuring three kinds of alarms:\n",
    "\n",
    "* True alarms:\n",
    "  Those are alarms that indicated a real problem that needed to be fixed.\n",
    "* False alarms:\n",
    "  Those are alarms that happened, despite there not being a problem,\n",
    "  or a problem that had to be fixed immediately.\n",
    "* Missing alarms:\n",
    "  Much like the curious case of the dog in the night time,\n",
    "  alarms that\n",
    "  *do not*\n",
    "  exist\n",
    "  are just as important as those which do.\n",
    "  A missing alarm is a problem that,\n",
    "  in retrospect,\n",
    "  needed to be fixed urgently,\n",
    "  and yet no alarm was sent.\n",
    "  \n",
    "Distinguishing these alerts from each other can only be done retroactively.\n",
    "If you knew an alert was a false alarm,\n",
    "there would be no need to send it!\n",
    "This leads to an important aspect of alert quality:\n",
    "it can only be measured retroactively."
   ]
  },
  {
   "cell_type": "markdown",
   "metadata": {},
   "source": [
    "```{=latex}\n",
    "\\begin{frame}\n",
    "\\frametitle{What is alert quality made of?}\n",
    "\n",
    "\\pause\n",
    "\n",
    "True alarms \\pause\n",
    "\n",
    "False alarms \\pause\n",
    "\n",
    "Missing alarms\n",
    "\n",
    "\\end{frame}\n",
    "```"
   ]
  },
  {
   "cell_type": "markdown",
   "metadata": {
    "tags": []
   },
   "source": [
    "### True Alarm\n",
    "\n",
    "What parameters would make up the quality of a true alarm?\n",
    "In other words,\n",
    "what numbers are good when they go in one direction\n",
    "and bad when they go in another?\n",
    "\n",
    "Right now we are not focused on how to trade them off,\n",
    "let alone improving!\n",
    "All we want here is to capture the data.\n",
    "\n",
    "The most important thing about a true alarm is the latency of the alert.\n",
    "So important it is,\n",
    "in fact,\n",
    "that it is useful to break it down:\n",
    "\n",
    "* From the beginning of the issue to the detection\n",
    "* From the detection to someone acknowleding it\n",
    "* From acknowledgement to having some diagnosis (enough to fix)\n",
    "* From initial diagnosis to remediation.\n",
    "\n",
    "Though the aggregate matters,\n",
    "breaking it down gives better insights into where the problems are."
   ]
  },
  {
   "cell_type": "markdown",
   "metadata": {},
   "source": [
    "```{=latex}\n",
    "\\begin{frame}\n",
    "\\frametitle{True Alarm}\n",
    "\n",
    "\\pause\n",
    "\\begin{itemize}\n",
    "\\item Start to detect \\pause\n",
    "\\item Detect to acknowledge \\pause\n",
    "\\item Acknowledge to diagnosis \\pause\n",
    "\\item Diagnosis to remediation\n",
    "\\end{itemize}\n",
    "\n",
    "\\end{frame}\n",
    "```"
   ]
  },
  {
   "cell_type": "markdown",
   "metadata": {
    "tags": []
   },
   "source": [
    "### Missing Alarm\n",
    "\n",
    "A missing alarm,\n",
    "by definition,\n",
    "still caused a problem that needed fixing.\n",
    "Since this is the measurement stage,\n",
    "this problem has already been fixed.\n",
    "\n",
    "This means that the very same parameters\n",
    "can be measured for the missing alarm:\n",
    "latency to remediation,\n",
    "broken down by similar metrics.\n",
    "\n",
    "Indeed, one of the measurement of a true alarm\n",
    "should be to improve at least one of those.\n",
    "The glaring one is\n",
    "\"time to detect\",\n",
    "but this needs not be the only one.\n",
    "\n",
    "A true alarm could route better,\n",
    "improving detection to acknowledgement.\n",
    "It could add diagnostic information,\n",
    "allowing faster diagnosis.\n",
    "It could point to the right runbook,\n",
    "allowing faster remediation."
   ]
  },
  {
   "cell_type": "markdown",
   "metadata": {},
   "source": [
    "```{=latex}\n",
    "\\begin{frame}\n",
    "\\frametitle{Missing Alarm}\n",
    "\n",
    "\n",
    "\\begin{itemize}\n",
    "\\item Start to detect \\pause\n",
    "\\item Detect to acknowledge \\pause\n",
    "\\item Acknowledge to diagnosis \\pause\n",
    "\\item Diagnosis to remediation\n",
    "\\end{itemize}\n",
    "\n",
    "\n",
    "\\end{frame}\n",
    "```"
   ]
  },
  {
   "cell_type": "markdown",
   "metadata": {
    "tags": []
   },
   "source": [
    "### False Alarm\n",
    "\n",
    "A false alarm is one,\n",
    "by definition,\n",
    "that did not have any remediation involved.\n",
    "This means that the latency for a false alarm\n",
    "is from the detection to diagnosis.\n",
    "\n",
    "In this case,\n",
    "there are fewer steps.\n",
    "It is still worthwhile to break down the times\n",
    "from detection to acknowledgement,\n",
    "and from acknowledgement to the\n",
    "\"all clear\"\n",
    "diagnosis."
   ]
  },
  {
   "cell_type": "markdown",
   "metadata": {},
   "source": [
    "```{=latex}\n",
    "\\begin{frame}\n",
    "\\frametitle{False Alarm}\n",
    "\n",
    "Detect to acknowledgement \\pause\n",
    "\n",
    "Acknowledgement to diagnosis\n",
    "\n",
    "\\end{frame}\n",
    "```"
   ]
  },
  {
   "cell_type": "markdown",
   "metadata": {
    "tags": []
   },
   "source": [
    "### Cost of alerting"
   ]
  },
  {
   "cell_type": "markdown",
   "metadata": {},
   "source": [
    "A\n",
    "**false**\n",
    "alarm is one where no incident happened.\n",
    "In contrast,\n",
    "a\n",
    "**useless**\n",
    "alarm\n",
    "is one that indicated an incident that\n",
    "had already been alerted on.\n",
    "\n",
    "This might mean a previous alert has already indicated the incident,\n",
    "or it might mean a human became aware of the issue in some other way.\n",
    "For example,\n",
    "users reporting issues in an application falls\n",
    "under this bucket.\n",
    "\n",
    "Both kind of alerts are overhead:\n",
    "had their not been an alerting system at all,\n",
    "they would not have been sent,\n",
    "with no degradation to the service provided.\n",
    "\n",
    "```{=latex}\n",
    "\\begin{frame}\n",
    "\\frametitle{Alerting costs}\n",
    "\n",
    "False alarm \\pause\n",
    "\n",
    "Useless alarm\n",
    "\n",
    "\\end{frame}\n",
    "```"
   ]
  },
  {
   "cell_type": "markdown",
   "metadata": {
    "tags": []
   },
   "source": [
    "### Cost of not alerting\n",
    "\n",
    "If there is only measurement of costs of alerting,\n",
    "than the incentive is to never alert.\n",
    "People have the revealed preference of building alerting systems.\n",
    "\n",
    "The reason is because there is a cost to\n",
    "*not*\n",
    "alerting.\n",
    "A missing alarm can result in\n",
    "increased remediation latency.\n",
    "Measuring both the total increase,\n",
    "and breaking down the increases,\n",
    "is useful."
   ]
  },
  {
   "cell_type": "markdown",
   "metadata": {},
   "source": [
    "```{=latex}\n",
    "\\begin{frame}\n",
    "\\frametitle{Non-alerting costs}\n",
    "\n",
    "Extra time to remediate \\pause\n",
    "\n",
    "Broken down\n",
    "\n",
    "\\end{frame}\n",
    "```\n",
    "\n",
    "### Alert quality as cost\n",
    "\n",
    "Putting those two costs together allows modeling\n",
    "alert quality\n",
    "**as**\n",
    "cost.\n",
    "The total cost of alerting,\n",
    "plus the total cost of not alerting,\n",
    "is an\n",
    "\"anti-quality\"\n",
    "measurement.\n",
    "\n",
    "In order to get a quality measurement,\n",
    "negate it.\n",
    "If dealing with negative numbers is too depressing,\n",
    "since the best is zero,\n",
    "add a large constant.\n",
    "\n",
    "The important thing about alert quality is\n",
    "how to improve it,\n",
    "so adding a constant value does not change the\n",
    "resulting actions.\n",
    "It is,\n",
    "sometimes,\n",
    "nicer\n",
    "to avoid having to say\n",
    "\"OKR is to reduce alert value by 10%\".\n",
    "\n",
    "```{=latex}\n",
    "\\begin{frame}\n",
    "\\frametitle{Alert quality as value}\n",
    "\n",
    "Cost of alerting \\pause\n",
    "\n",
    "plus cost of not alerting \\pause\n",
    "\n",
    "Negated \\pause\n",
    "\n",
    "Plus a constant\n",
    "\n",
    "\\end{frame}\n",
    "```\n",
    "\n"
   ]
  },
  {
   "cell_type": "markdown",
   "metadata": {},
   "source": [
    "## Cost of alarm"
   ]
  },
  {
   "cell_type": "markdown",
   "metadata": {},
   "source": [
    "In order to model alert quality as\n",
    "(anti-)cost,\n",
    "we need to measure cost.\n",
    "*Measuring*\n",
    "is always and forever a process of\n",
    "*estimation*.\n",
    "\n",
    "In other words,\n",
    "measuring alerting costs\n",
    "means gathering the data from the incidents,\n",
    "and estimating a cost per alert.\n",
    "This can mean that sometimes it's useful to give a cost\n",
    "not in dollars,\n",
    "but in some fake currency.\n",
    "\n",
    "This can sometimes communicate better\n",
    "*systemic*\n",
    "estimation errors.\n",
    "Systemic errors end up not changing the suggested actions or overall feeling,\n",
    "so reducing those might not be as useful.\n",
    "\n",
    "```{=latex}\n",
    "\\begin{frame}\n",
    "\\frametitle{Breaking down alerting costs}\n",
    "\n",
    "Data \\to Estimation\n",
    "\n",
    "\\end{frame}\n",
    "```"
   ]
  },
  {
   "cell_type": "markdown",
   "metadata": {},
   "source": [
    "### False alarm"
   ]
  },
  {
   "cell_type": "markdown",
   "metadata": {},
   "source": [
    "Since a false alarm does not result in any degradation,\n",
    "any amount of people involved in it is\n",
    "\"wasted\".\n",
    "Because of that,\n",
    "totalling the total amount of person time\n",
    "invested in the diagnosis\n",
    "is important.\n",
    "\n",
    "```{=latex}\n",
    "\\begin{frame}\n",
    "\\frametitle{False alarm}\n",
    "\n",
    "Number of people \\pause\n",
    "\n",
    "Time\n",
    "\n",
    "\\end{frame}\n",
    "```"
   ]
  },
  {
   "cell_type": "markdown",
   "metadata": {},
   "source": [
    "### Convenience\n",
    "\n",
    "Alerts,\n",
    "false,\n",
    "true,\n",
    "or missing,\n",
    "can have different levels of\n",
    "\"convenience\".\n",
    "Think of convenience as\n",
    "\"amount of engineer dissatisfaction\"\n",
    "or\n",
    "\"burn-out factor\".\n",
    "\n",
    "This convenience can depend on various aspects,\n",
    "and ultimately on the people involved.\n",
    "Is an alert on Saturday at 4pm worse\n",
    "than one on Tuesday at 2am?\n",
    "\n",
    "It can also depend on what else these people are doing.\n",
    "Especially an alert which adds distraction\n",
    "or context-switching overhead\n",
    "to an engineer can be harmful.\n",
    "\n"
   ]
  },
  {
   "cell_type": "markdown",
   "metadata": {},
   "source": [
    "```{=latex}\n",
    "\\begin{frame}\n",
    "\\frametitle{Alarm convenience}\n",
    "\n",
    "Off business hours? \\pause\n",
    "\n",
    "Delaying critical project?\n",
    "\n",
    "\\end{frame}\n",
    "```"
   ]
  },
  {
   "cell_type": "markdown",
   "metadata": {},
   "source": [
    "### People involved"
   ]
  },
  {
   "cell_type": "markdown",
   "metadata": {
    "tags": []
   },
   "source": [
    "The\n",
    "*number*\n",
    "of people involved is also an important cost metric.\n",
    "How many people needed to get involved?\n",
    "Across how many teams?\n",
    "Was it to find the responsible party or\n",
    "to get help?\n",
    "\n",
    "```{=latex}\n",
    "\\begin{frame}\n",
    "\\frametitle{People diagnosing and remediating}\n",
    "\n",
    "Interaction with other teams? \\pause\n",
    "\n",
    "Finding responsible party?\n",
    "\n",
    "\\end{frame}\n",
    "```"
   ]
  },
  {
   "cell_type": "markdown",
   "metadata": {},
   "source": [
    "### Work involved"
   ]
  },
  {
   "cell_type": "markdown",
   "metadata": {
    "tags": []
   },
   "source": [
    "How much work was involved in remediation?\n",
    "By whom?\n",
    "*Where* was this work spent:\n",
    "diagnosis,\n",
    "test,\n",
    "deployment,\n",
    "etc.\n",
    "This is useful to make sure all remediation work was involved.\n",
    "\n",
    "\n",
    "```{=latex}\n",
    "\\begin{frame}\n",
    "\\frametitle{Work diagnosing and remediating}\n",
    "\n",
    "Work to diagnose \\pause\n",
    "\n",
    "Work to test \\pause\n",
    "\n",
    "Work to deploy\n",
    "\n",
    "\\end{frame}\n",
    "```"
   ]
  },
  {
   "cell_type": "markdown",
   "metadata": {},
   "source": [
    "## Cost of incident"
   ]
  },
  {
   "cell_type": "markdown",
   "metadata": {
    "tags": []
   },
   "source": [
    "Separate from the cost of the\n",
    "*alert*\n",
    "itself,\n",
    "it is important to measure the cost of the incident.\n",
    "An incident means that a service that someone cared about was degraded.\n",
    "\n",
    "How much caring,\n",
    "how much degradation,\n",
    "and how long,\n",
    "is important.\n",
    "This is separate from how much\n",
    "*work*\n",
    "it took to remediate.\n",
    "\n",
    "For example,\n",
    "a one-line fix that took an hour for the automated deployment to finish\n",
    "might have little work,\n",
    "but a lot of time to remediate.\n",
    "In contrast,\n",
    "a fix that took five minutes to deploy,\n",
    "but three people over twenty minutes to develop,\n",
    "takes more work,\n",
    "but takes less long to remediate.\n",
    "\n",
    "\n",
    "```{=latex}\n",
    "\\begin{frame}\n",
    "\\frametitle{Incident cost}\n",
    "\n",
    "Separate from work on incident\n",
    "\n",
    "\\end{frame}\n",
    "```"
   ]
  },
  {
   "cell_type": "markdown",
   "metadata": {},
   "source": [
    "### Time to detect"
   ]
  },
  {
   "cell_type": "markdown",
   "metadata": {
    "tags": []
   },
   "source": [
    "```{=latex}\n",
    "\\begin{frame}\n",
    "\\frametitle{Time to detect}\n",
    "\n",
    "Unknown problem\n",
    "\n",
    "\\end{frame}\n",
    "```"
   ]
  },
  {
   "cell_type": "markdown",
   "metadata": {},
   "source": [
    "### Time to remediate"
   ]
  },
  {
   "cell_type": "markdown",
   "metadata": {
    "tags": []
   },
   "source": [
    "```{=latex}\n",
    "\\begin{frame}\n",
    "\\frametitle{Time to remediate}\n",
    "\n",
    "Known problem\n",
    "\n",
    "\\end{frame}\n",
    "```"
   ]
  },
  {
   "cell_type": "markdown",
   "metadata": {},
   "source": [
    "### Immediate cost"
   ]
  },
  {
   "cell_type": "markdown",
   "metadata": {
    "tags": []
   },
   "source": [
    "```{=latex}\n",
    "\\begin{frame}\n",
    "\\frametitle{Immediate cost}\n",
    "\n",
    "SLA missed \\pause\n",
    "\n",
    "Business missed\n",
    "\n",
    "\\end{frame}\n",
    "```"
   ]
  },
  {
   "cell_type": "markdown",
   "metadata": {},
   "source": [
    "### Reputational cost"
   ]
  },
  {
   "cell_type": "markdown",
   "metadata": {
    "tags": []
   },
   "source": [
    "```{=latex}\n",
    "\\begin{frame}\n",
    "\\frametitle{Reputation cost}\n",
    "\n",
    "Customer feedback \\pause\n",
    "\n",
    "Customer continued business \\pause\n",
    "\n",
    "New customer acquisition\n",
    "\n",
    "\\end{frame}\n",
    "```"
   ]
  },
  {
   "cell_type": "markdown",
   "metadata": {},
   "source": [
    "### Secondary incidents"
   ]
  },
  {
   "cell_type": "markdown",
   "metadata": {
    "tags": []
   },
   "source": [
    "```{=latex}\n",
    "\\begin{frame}\n",
    "\\frametitle{Secondary incidents cost}\n",
    "\n",
    "Any degradation caused by remediations/mitigations\n",
    "\\end{frame}\n",
    "```"
   ]
  },
  {
   "cell_type": "markdown",
   "metadata": {},
   "source": [
    "## Balancing costs"
   ]
  },
  {
   "cell_type": "markdown",
   "metadata": {
    "tags": []
   },
   "source": [
    "```{=latex}\n",
    "\\begin{frame}\n",
    "\\frametitle{Balancing cost}\n",
    "\n",
    "What would constitute \"better\"?\n",
    "\n",
    "\\end{frame}\n",
    "```"
   ]
  },
  {
   "cell_type": "markdown",
   "metadata": {},
   "source": [
    "### Gathering data"
   ]
  },
  {
   "cell_type": "markdown",
   "metadata": {
    "tags": []
   },
   "source": [
    "```{=latex}\n",
    "\\begin{frame}\n",
    "\\frametitle{Gather data}\n",
    "\n",
    "Estimate when you need to\n",
    "\n",
    "\\end{frame}\n",
    "```"
   ]
  },
  {
   "cell_type": "markdown",
   "metadata": {
    "tags": []
   },
   "source": [
    "### Deciding on priorities"
   ]
  },
  {
   "cell_type": "markdown",
   "metadata": {
    "tags": []
   },
   "source": [
    "```{=latex}\n",
    "\\begin{frame}\n",
    "\\frametitle{Priorities}\n",
    "\n",
    "Strategy \\pause\n",
    "\n",
    "Tactics\n",
    "\n",
    "\\end{frame}\n",
    "```"
   ]
  },
  {
   "cell_type": "markdown",
   "metadata": {},
   "source": [
    "### Tracking trailing OKRs"
   ]
  },
  {
   "cell_type": "markdown",
   "metadata": {
    "tags": []
   },
   "source": [
    "```{=latex}\n",
    "\\begin{frame}\n",
    "\\frametitle{Tracking quality}\n",
    "\n",
    "Actual quality: Lagging indicator\n",
    "\n",
    "\\end{frame}\n",
    "```"
   ]
  },
  {
   "cell_type": "markdown",
   "metadata": {},
   "source": [
    "### Tracking immediate OKRs"
   ]
  },
  {
   "cell_type": "markdown",
   "metadata": {
    "tags": []
   },
   "source": [
    "```{=latex}\n",
    "\\begin{frame}\n",
    "\\frametitle{Tracking quality: immediate}\n",
    "\n",
    "Approximate quality \\pause\n",
    "\n",
    "Track that\n",
    "\n",
    "\\end{frame}\n",
    "```"
   ]
  },
  {
   "cell_type": "markdown",
   "metadata": {},
   "source": [
    "### Black swans"
   ]
  },
  {
   "cell_type": "markdown",
   "metadata": {
    "tags": []
   },
   "source": [
    "```{=latex}\n",
    "\\begin{frame}\n",
    "\\frametitle{Tracking quality: black swans}\n",
    "\n",
    "Take into account wide \"safety margins\"\n",
    "\n",
    "\\end{frame}\n",
    "```"
   ]
  },
  {
   "cell_type": "markdown",
   "metadata": {},
   "source": [
    "### Goodhart's law"
   ]
  },
  {
   "cell_type": "markdown",
   "metadata": {
    "tags": []
   },
   "source": [
    "```{=latex}\n",
    "\\begin{frame}\n",
    "\\frametitle{Tracking quality: Goodhart's law}\n",
    "\n",
    "Not a target \\pause\n",
    "\n",
    "Feedback\n",
    "\n",
    "\\end{frame}\n",
    "```"
   ]
  },
  {
   "cell_type": "markdown",
   "metadata": {},
   "source": [
    "## Summary\n",
    "\n",
    "### Alert quality matters`"
   ]
  },
  {
   "cell_type": "markdown",
   "metadata": {
    "tags": []
   },
   "source": [
    "```{=latex}\n",
    "\\begin{frame}\n",
    "\\frametitle{Alert quality matters}\n",
    "\n",
    "Burn out \\pause\n",
    "\n",
    "Customer satisfaction\n",
    "\n",
    "\\end{frame}\n",
    "```"
   ]
  },
  {
   "cell_type": "markdown",
   "metadata": {},
   "source": [
    "### Alert quality take effort to track"
   ]
  },
  {
   "cell_type": "markdown",
   "metadata": {
    "tags": []
   },
   "source": [
    "```{=latex}\n",
    "\\begin{frame}\n",
    "\\frametitle{Alert quality difficult to track}\n",
    "\n",
    "Time and effort!\n",
    "\n",
    "\\end{frame}\n",
    "```"
   ]
  },
  {
   "cell_type": "markdown",
   "metadata": {
    "tags": []
   },
   "source": [
    "### Improve and iterate"
   ]
  },
  {
   "cell_type": "markdown",
   "metadata": {
    "tags": []
   },
   "source": [
    "```{=latex}\n",
    "\\begin{frame}\n",
    "\\frametitle{Alert improvement}\n",
    "\n",
    "Measure \\pause\n",
    "\n",
    "Fix \\pause\n",
    "\n",
    "Iterate\n",
    "\n",
    "\\end{frame}\n",
    "```"
   ]
  },
  {
   "cell_type": "markdown",
   "metadata": {},
   "source": [
    "```{=latex}\n",
    "\\end{document}\n",
    "```"
   ]
  }
 ],
 "metadata": {
  "kernelspec": {
   "display_name": "Python 3 (ipykernel)",
   "language": "python",
   "name": "python3"
  },
  "language_info": {
   "codemirror_mode": {
    "name": "ipython",
    "version": 3
   },
   "file_extension": ".py",
   "mimetype": "text/x-python",
   "name": "python",
   "nbconvert_exporter": "python",
   "pygments_lexer": "ipython3",
   "version": "3.10.2"
  },
  "toc-autonumbering": true
 },
 "nbformat": 4,
 "nbformat_minor": 4
}
