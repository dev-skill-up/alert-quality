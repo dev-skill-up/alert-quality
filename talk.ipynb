{
 "cells": [
  {
   "cell_type": "markdown",
   "metadata": {},
   "source": [
    "```{=latex}\n",
    "\\usepackage{hyperref}\n",
    "\\usepackage{graphicx}\n",
    "\\usepackage{listings}\n",
    "\\usepackage{textcomp}\n",
    "\\usepackage{fancyvrb}\n",
    "\n",
    "\\newcommand{\\passthrough}[1]{\\lstset{mathescape=false}#1\\lstset{mathescape=true}}\n",
    "\\newcommand{\\tightlist}{}\n",
    "```"
   ]
  },
  {
   "cell_type": "markdown",
   "metadata": {},
   "source": [
    "```{=latex}\n",
    "\\title{Modeling Alert Quality}\n",
    "\\author{Moshe Zadka -- https://cobordism.com}\n",
    "\\date{}\n",
    "\n",
    "\\begin{document}\n",
    "\\begin{titlepage}\n",
    "\\maketitle\n",
    "\\end{titlepage}\n",
    "\n",
    "\\frame{\\titlepage}\n",
    "```"
   ]
  },
  {
   "cell_type": "markdown",
   "metadata": {},
   "source": [
    "```{=latex}\n",
    "\\begin{frame}\n",
    "\\frametitle{Acknowledgement of Country}\n",
    "\n",
    "Belmont (in San Francisco Bay Area Peninsula)\n",
    "\n",
    "Ancestral homeland of the Ramaytush Ohlone people\n",
    "\n",
    "\\end{frame}\n",
    "```"
   ]
  },
  {
   "cell_type": "markdown",
   "metadata": {
    "tags": []
   },
   "source": [
    "## What are alerts?"
   ]
  },
  {
   "cell_type": "markdown",
   "metadata": {},
   "source": [
    "Before I talk about alert\n",
    "*quality*,\n",
    "I want to make sure we are all on the same page:\n",
    "what are alerts?\n",
    "Whether good or bad,\n",
    "it is important to distinguish them from other things.\n",
    "\n",
    "```{=latex}\n",
    "\\begin{frame}\n",
    "\\frametitle{What are alerts?}\n",
    "\n",
    "Good or bad\n",
    "\n",
    "\\end{frame}\n",
    "```"
   ]
  },
  {
   "cell_type": "markdown",
   "metadata": {
    "tags": []
   },
   "source": [
    "### Monitoring\n",
    "\n",
    "There can be different models of alerts.\n",
    "This is a specific,\n",
    "but popular model.\n",
    "If alerts are to be about a system,\n",
    "then the system has to send some monitoring,\n",
    "or observability,\n",
    "data somewhere.\n",
    "\n",
    "If we want more than a single data point to cause an alert,\n",
    "this data sink has to aggregate the data.\n",
    "This is going to be the\n",
    "*source*\n",
    "of the alerts."
   ]
  },
  {
   "cell_type": "markdown",
   "metadata": {},
   "source": [
    "```{=latex}\n",
    "\\begin{frame}\n",
    "\\frametitle{Monitoring}\n",
    "\n",
    "System $\\to$ Aggregator\n",
    "\n",
    "\\end{frame}\n",
    "```"
   ]
  },
  {
   "cell_type": "markdown",
   "metadata": {
    "tags": []
   },
   "source": [
    "### Event\n",
    "\n",
    "A system that constantly alerts is as useless as a system that always alerts.\n",
    "If alerts are based on data,\n",
    "and should not be sent all the time,\n",
    "we can model an alert as a kind of\n",
    "*event*.\n",
    "The definition of an event is that some query against the aggregated data\n",
    "returns an atypical value.\n",
    "\n",
    "But not events are alerts!"
   ]
  },
  {
   "cell_type": "markdown",
   "metadata": {},
   "source": [
    "```{=latex}\n",
    "\\begin{frame}\n",
    "\\frametitle{Event}\n",
    "\n",
    "Aggregator query \\pause atypical value\n",
    "\n",
    "\\end{frame}\n",
    "```"
   ]
  },
  {
   "cell_type": "markdown",
   "metadata": {
    "tags": []
   },
   "source": [
    "### Alert: Low priority\n",
    "\n",
    "A\n",
    "*low priority*\n",
    "alert is when an event indicates a\n",
    "*problem*,\n",
    "but the problem is not urgent.\n",
    "This kind of alert usually shows up in e-mail,\n",
    "as a task,\n",
    "or in slack."
   ]
  },
  {
   "cell_type": "markdown",
   "metadata": {},
   "source": [
    "```{=latex}\n",
    "\\begin{frame}\n",
    "\\frametitle{Low priority alert}\n",
    "\n",
    "Bad event (not urgent)\n",
    "\n",
    "\\end{frame}\n",
    "```"
   ]
  },
  {
   "cell_type": "markdown",
   "metadata": {
    "tags": []
   },
   "source": [
    "### Alert: High priority\n",
    "\n",
    "A\n",
    "*high-priority*\n",
    "alert is an event that we have decided should require an immediate action.\n",
    "This kind of alert will usually text,\n",
    "ring,\n",
    "or otherwise cause sounds,\n",
    "lights,\n",
    "and vibrations from a mobile device.\n",
    "\n",
    "\n",
    "This is intended to draw immediate attention,\n",
    "potentially waking someone up.\n",
    "These alerts,\n",
    "high priority ones,\n",
    "are the focus of this talk.\n",
    "\n",
    "It is those alerts whose quality we want to measure."
   ]
  },
  {
   "cell_type": "markdown",
   "metadata": {},
   "source": [
    "```{=latex}\n",
    "\\begin{frame}\n",
    "\\frametitle{High priority alert}\n",
    "\n",
    "Break-fix needed! \\pause\n",
    "\n",
    "Focus of this talk\n",
    "\n",
    "\\end{frame}\n",
    "```"
   ]
  },
  {
   "cell_type": "markdown",
   "metadata": {
    "tags": []
   },
   "source": [
    "## What is alert quality?\n",
    "\n",
    "So now that we have decided what alerts to measure,\n",
    "what exactly will we measure?\n",
    "It is useful to break the measurement into measuring three kinds of alarms:\n",
    "\n",
    "* True alarms:\n",
    "  Those are alarms that indicated a real problem that needed to be fixed.\n",
    "* False alarms:\n",
    "  Those are alarms that happened, despite there not being a problem,\n",
    "  or a problem that had to be fixed immediately.\n",
    "* Missing alarms:\n",
    "  Much like the curious case of the dog in the night time,\n",
    "  alarms that\n",
    "  *do not*\n",
    "  exist\n",
    "  are just as important as those which do.\n",
    "  A missing alarm is a problem that,\n",
    "  in retrospect,\n",
    "  needed to be fixed urgently,\n",
    "  and yet no alarm was sent.\n",
    "  \n",
    "Distinguishing these alerts from each other can only be done retroactively.\n",
    "If you knew an alert was a false alarm,\n",
    "there would be no need to send it!\n",
    "This leads to an important aspect of alert quality:\n",
    "it can only be measured retroactively."
   ]
  },
  {
   "cell_type": "markdown",
   "metadata": {},
   "source": [
    "```{=latex}\n",
    "\\begin{frame}\n",
    "\\frametitle{What is alert quality made of?}\n",
    "\n",
    "\\pause\n",
    "\n",
    "True alarms \\pause\n",
    "\n",
    "False alarms \\pause\n",
    "\n",
    "Missing alarms\n",
    "\n",
    "\\end{frame}\n",
    "```"
   ]
  },
  {
   "cell_type": "markdown",
   "metadata": {
    "tags": []
   },
   "source": [
    "### True Alarm\n",
    "\n",
    "What parameters would make up the quality of a true alarm?\n",
    "In other words,\n",
    "what numbers are good when they go in one direction\n",
    "and bad when they go in another?\n",
    "\n",
    "Right now we are not focused on how to trade them off,\n",
    "let alone improving!\n",
    "All we want here is to capture the data.\n",
    "\n",
    "The most important thing about a true alarm is the latency of the alert.\n",
    "So important it is,\n",
    "in fact,\n",
    "that it is useful to break it down:\n",
    "\n",
    "* From the beginning of the issue to the detection\n",
    "* From the detection to someone acknowleding it\n",
    "* From acknowledgement to having some diagnosis (enough to fix)\n",
    "* From initial diagnosis to remediation.\n",
    "\n",
    "Though the aggregate matters,\n",
    "breaking it down gives better insights into where the problems are."
   ]
  },
  {
   "cell_type": "markdown",
   "metadata": {},
   "source": [
    "```{=latex}\n",
    "\\begin{frame}\n",
    "\\frametitle{True Alarm}\n",
    "\n",
    "\\pause\n",
    "\\begin{itemize}\n",
    "\\item Start to detect \\pause\n",
    "\\item Detect to acknowledge \\pause\n",
    "\\item Acknowledge to diagnosis \\pause\n",
    "\\item Diagnosis to remediation\n",
    "\\end{itemize}\n",
    "\n",
    "\\end{frame}\n",
    "```"
   ]
  },
  {
   "cell_type": "markdown",
   "metadata": {
    "tags": []
   },
   "source": [
    "### Missing Alarm\n",
    "\n",
    "A missing alarm,\n",
    "by definition,\n",
    "still caused a problem that needed fixing.\n",
    "Since this is the measurement stage,\n",
    "this problem has already been fixed.\n",
    "\n",
    "This means that the very same parameters\n",
    "can be measured for the missing alarm:\n",
    "latency to remediation,\n",
    "broken down by similar metrics.\n",
    "\n",
    "Indeed, one of the measurement of a true alarm\n",
    "should be to improve at least one of those.\n",
    "The glaring one is\n",
    "\"time to detect\",\n",
    "but this needs not be the only one.\n",
    "\n",
    "A true alarm could route better,\n",
    "improving detection to acknowledgement.\n",
    "It could add diagnostic information,\n",
    "allowing faster diagnosis.\n",
    "It could point to the right runbook,\n",
    "allowing faster remediation."
   ]
  },
  {
   "cell_type": "markdown",
   "metadata": {},
   "source": [
    "```{=latex}\n",
    "\\begin{frame}\n",
    "\\frametitle{Missing Alarm}\n",
    "\n",
    "\n",
    "\\begin{itemize}\n",
    "\\item Start to detect \\pause\n",
    "\\item Detect to acknowledge \\pause\n",
    "\\item Acknowledge to diagnosis \\pause\n",
    "\\item Diagnosis to remediation\n",
    "\\end{itemize}\n",
    "\n",
    "\n",
    "\\end{frame}\n",
    "```"
   ]
  },
  {
   "cell_type": "markdown",
   "metadata": {
    "tags": []
   },
   "source": [
    "### False Alarm\n",
    "\n",
    "A false alarm is one,\n",
    "by definition,\n",
    "that did not have any remediation involved.\n",
    "This means that the latency for a false alarm\n",
    "is from the detection to diagnosis.\n",
    "\n",
    "In this case,\n",
    "there are fewer steps.\n",
    "It is still worthwhile to break down the times\n",
    "from detection to acknowledgement,\n",
    "and from acknowledgement to the\n",
    "\"all clear\"\n",
    "diagnosis."
   ]
  },
  {
   "cell_type": "markdown",
   "metadata": {},
   "source": [
    "```{=latex}\n",
    "\\begin{frame}\n",
    "\\frametitle{False Alarm}\n",
    "\n",
    "Detect to acknowledgement \\pause\n",
    "\n",
    "Acknowledgement to diagnosis\n",
    "\n",
    "\\end{frame}\n",
    "```"
   ]
  },
  {
   "cell_type": "markdown",
   "metadata": {
    "tags": []
   },
   "source": [
    "### Cost of alerting"
   ]
  },
  {
   "cell_type": "markdown",
   "metadata": {},
   "source": [
    "A\n",
    "**false**\n",
    "alarm is one where no incident happened.\n",
    "In contrast,\n",
    "a\n",
    "**useless**\n",
    "alarm\n",
    "is one that indicated an incident that\n",
    "had already been alerted on.\n",
    "\n",
    "This might mean a previous alert has already indicated the incident,\n",
    "or it might mean a human became aware of the issue in some other way.\n",
    "For example,\n",
    "users reporting issues in an application falls\n",
    "under this bucket.\n",
    "\n",
    "Both kind of alerts are overhead:\n",
    "had their not been an alerting system at all,\n",
    "they would not have been sent,\n",
    "with no degradation to the service provided.\n",
    "\n",
    "```{=latex}\n",
    "\\begin{frame}\n",
    "\\frametitle{Alerting costs}\n",
    "\n",
    "False alarm \\pause\n",
    "\n",
    "Useless alarm\n",
    "\n",
    "\\end{frame}\n",
    "```"
   ]
  },
  {
   "cell_type": "markdown",
   "metadata": {
    "tags": []
   },
   "source": [
    "### Cost of not alerting\n",
    "\n",
    "If there is only measurement of costs of alerting,\n",
    "than the incentive is to never alert.\n",
    "People have the revealed preference of building alerting systems.\n",
    "\n",
    "The reason is because there is a cost to\n",
    "*not*\n",
    "alerting.\n",
    "A missing alarm can result in\n",
    "increased remediation latency.\n",
    "Measuring both the total increase,\n",
    "and breaking down the increases,\n",
    "is useful."
   ]
  },
  {
   "cell_type": "markdown",
   "metadata": {},
   "source": [
    "```{=latex}\n",
    "\\begin{frame}\n",
    "\\frametitle{Non-alerting costs}\n",
    "\n",
    "Extra time to remediate \\pause\n",
    "\n",
    "Broken down\n",
    "\n",
    "\\end{frame}\n",
    "```\n",
    "\n",
    "### Alert quality as cost\n",
    "\n",
    "Putting those two costs together allows modeling\n",
    "alert quality\n",
    "**as**\n",
    "cost.\n",
    "The total cost of alerting,\n",
    "plus the total cost of not alerting,\n",
    "is an\n",
    "\"anti-quality\"\n",
    "measurement.\n",
    "\n",
    "In order to get a quality measurement,\n",
    "negate it.\n",
    "If dealing with negative numbers is too depressing,\n",
    "since the best is zero,\n",
    "add a large constant.\n",
    "\n",
    "The important thing about alert quality is\n",
    "how to improve it,\n",
    "so adding a constant value does not change the\n",
    "resulting actions.\n",
    "It is,\n",
    "sometimes,\n",
    "nicer\n",
    "to avoid having to say\n",
    "\"OKR is to reduce alert value by 10%\".\n",
    "\n",
    "```{=latex}\n",
    "\\begin{frame}\n",
    "\\frametitle{Alert quality as value}\n",
    "\n",
    "Cost reduction because of true alarm \\pause\n",
    "minus cost of false alarms\n",
    "\n",
    "\\end{frame}\n",
    "```\n",
    "\n"
   ]
  },
  {
   "cell_type": "markdown",
   "metadata": {},
   "source": [
    "## Cost of alarm"
   ]
  },
  {
   "cell_type": "markdown",
   "metadata": {},
   "source": [
    "In order to model alert quality as\n",
    "value,\n",
    "we need to measure cost.\n",
    "*Measuring*\n",
    "is always and forever a process of\n",
    "*estimation*.\n",
    "\n",
    "In other words,\n",
    "measuring alerting costs\n",
    "means gathering the data from the incidents,\n",
    "and estimating a cost per alert.\n",
    "This can mean that sometimes it's useful to give a cost\n",
    "not in dollars,\n",
    "but in some fake currency.\n",
    "\n",
    "This can sometimes communicate better\n",
    "*systemic*\n",
    "estimation errors.\n",
    "Systemic errors end up not changing the suggested actions or overall feeling,\n",
    "so reducing those might not be as useful.\n",
    "\n",
    "```{=latex}\n",
    "\\begin{frame}\n",
    "\\frametitle{Breaking down costs}\n",
    "\n",
    "Data $\\to$ Estimation\n",
    "\n",
    "\\end{frame}\n",
    "```"
   ]
  },
  {
   "cell_type": "markdown",
   "metadata": {},
   "source": [
    "### False alarm"
   ]
  },
  {
   "cell_type": "markdown",
   "metadata": {},
   "source": [
    "Since a false alarm does not result in any degradation,\n",
    "any amount of people involved in it is\n",
    "\"wasted\".\n",
    "Because of that,\n",
    "totalling the total amount of person time\n",
    "invested in the diagnosis\n",
    "is important.\n",
    "\n",
    "```{=latex}\n",
    "\\begin{frame}\n",
    "\\frametitle{Cost of false alarm}\n",
    "\n",
    "Number of people \\pause\n",
    "\n",
    "Length of time \\pause\n",
    "\n",
    "Convenience\n",
    "\n",
    "\\end{frame}\n",
    "```"
   ]
  },
  {
   "cell_type": "markdown",
   "metadata": {},
   "source": [
    "## Incident Cost\n",
    "\n",
    "In order to estimate\n",
    "*reduction*\n",
    "in incident cost\n",
    "because of alerting,\n",
    "you need to measure the cost of an incident.\n",
    "\n"
   ]
  },
  {
   "cell_type": "markdown",
   "metadata": {},
   "source": [
    "```{=latex}\n",
    "\\begin{frame}\n",
    "\\frametitle{Incident cost}\n",
    "\n",
    "True alarm \\pause\n",
    "\n",
    "Missing alarm\n",
    "\n",
    "\\end{frame}\n",
    "```"
   ]
  },
  {
   "cell_type": "markdown",
   "metadata": {},
   "source": [
    "The cost of incident is made up of two parts:\n",
    "the harm from the incident itself,\n",
    "and the cost of remediating it.\n",
    "\n",
    "```{=latex}\n",
    "\\begin{frame}\n",
    "\\frametitle{Incident cost}\n",
    "\n",
    "Loss \\pause\n",
    "\n",
    "Remediation\n",
    "\n",
    "\\end{frame}\n",
    "```"
   ]
  },
  {
   "cell_type": "markdown",
   "metadata": {},
   "source": [
    "### Incident disruption\n",
    "\n",
    "Incidents\n",
    "can have different levels of\n",
    "\"convenience\".\n",
    "Think of convenience as\n",
    "\"amount of engineer dissatisfaction\"\n",
    "or\n",
    "\"burn-out factor\".\n",
    "\n",
    "This convenience can depend on various aspects,\n",
    "and ultimately on the people involved.\n",
    "Is an incident on Saturday at 4pm worse\n",
    "than one on Tuesday at 2am?\n",
    "\n",
    "It can also depend on what else these people are doing.\n",
    "Especially an incident which adds distraction\n",
    "or context-switching overhead\n",
    "to an engineer can be harmful.\n",
    "\n",
    "This is a\n",
    "per-person meausre.\n",
    "It should be aggregated over all the people\n",
    "who had to handle the incident.\n"
   ]
  },
  {
   "cell_type": "markdown",
   "metadata": {},
   "source": [
    "```{=latex}\n",
    "\\begin{frame}\n",
    "\\frametitle{Remediation cost: disruption}\n",
    "\n",
    "Off business hours? \\pause\n",
    "\n",
    "Delaying critical project? \\pause\n",
    "\n",
    "Needed for handling the incident?\n",
    "\n",
    "\\end{frame}\n",
    "```"
   ]
  },
  {
   "cell_type": "markdown",
   "metadata": {},
   "source": [
    "### Work involved"
   ]
  },
  {
   "cell_type": "markdown",
   "metadata": {
    "tags": []
   },
   "source": [
    "How much work was involved in remediation?\n",
    "By whom?\n",
    "*Where* was this work spent:\n",
    "diagnosis,\n",
    "test,\n",
    "deployment,\n",
    "etc.\n",
    "This is useful to make sure all remediation work was involved.\n",
    "\n",
    "\n",
    "```{=latex}\n",
    "\\begin{frame}\n",
    "\\frametitle{Remediation cost: Work involved}\n",
    "\n",
    "Work to diagnose \\pause\n",
    "\n",
    "Work to test \\pause\n",
    "\n",
    "Work to deploy\n",
    "\n",
    "\\end{frame}\n",
    "```"
   ]
  },
  {
   "cell_type": "markdown",
   "metadata": {},
   "source": [
    "## Cost of incident"
   ]
  },
  {
   "cell_type": "markdown",
   "metadata": {
    "tags": []
   },
   "source": [
    "Separate from the cost of the\n",
    "*remediation*\n",
    "itself,\n",
    "it is important to measure the harm,\n",
    "or cost,\n",
    "from the incident.\n",
    "An incident means that a service that someone cared about was degraded.\n",
    "\n",
    "How much caring,\n",
    "how much degradation,\n",
    "and how long,\n",
    "is important.\n",
    "This is separate from how much\n",
    "*work*\n",
    "it took to remediate.\n",
    "\n",
    "For example,\n",
    "a one-line fix that took an hour for the automated deployment to finish\n",
    "might have little work,\n",
    "but a lot of time to remediate.\n",
    "In contrast,\n",
    "a fix that took five minutes to deploy,\n",
    "but three people over twenty minutes to develop,\n",
    "takes more work,\n",
    "but takes less long to remediate.\n",
    "\n",
    "\n",
    "```{=latex}\n",
    "\\begin{frame}\n",
    "\\frametitle{Incident loss}\n",
    "\n",
    "Separate from work on incident \\pause\n",
    "\n",
    "Harm \\pause\n",
    "integrated over time\n",
    "\n",
    "\\end{frame}\n",
    "```"
   ]
  },
  {
   "cell_type": "markdown",
   "metadata": {},
   "source": [
    "### Time to detect"
   ]
  },
  {
   "cell_type": "markdown",
   "metadata": {
    "tags": []
   },
   "source": [
    "The time to detect is another thing that can only be determined retroactively,\n",
    "and sometimes,\n",
    "even then only approximately.\n",
    "This is the time from when a problem\n",
    "*started*\n",
    "to the time the alert was sent.\n",
    "At this point,\n",
    "the problem is still not clear:\n",
    "someone needs to ascertain it is not a false alarm,\n",
    "figure out what is going on,\n",
    "and how to fix it.\n",
    "\n",
    "```{=latex}\n",
    "\\begin{frame}\n",
    "\\frametitle{Time to detect}\n",
    "\n",
    "Unknown problem\n",
    "\n",
    "\\end{frame}\n",
    "```"
   ]
  },
  {
   "cell_type": "markdown",
   "metadata": {},
   "source": [
    "### Time to acknowledge"
   ]
  },
  {
   "cell_type": "markdown",
   "metadata": {
    "tags": []
   },
   "source": [
    "The time to acknowledge is counted from the time\n",
    "someone was notified\n",
    "until they acknowledged it.\n",
    "This measures the time needed to take up,\n",
    "if needed,\n",
    "and get enough devices enough access to\n",
    "confirm that the alert has activated.\n",
    "\n",
    "Modern alerting systems\n",
    "make it easy to\n",
    "\"acknowledge\"\n",
    "an alert.\n",
    "This time can rise if on-call rotation is not optimal,\n",
    "or if people are not aware that they are on call.\n",
    "\n",
    "```{=latex}\n",
    "\\begin{frame}\n",
    "\\frametitle{Time to acknowledge}\n",
    "\n",
    "Time until confirmation of detection\n",
    "\n",
    "\\end{frame}\n",
    "```"
   ]
  },
  {
   "cell_type": "markdown",
   "metadata": {},
   "source": [
    "### Time to remediate"
   ]
  },
  {
   "cell_type": "markdown",
   "metadata": {
    "tags": []
   },
   "source": [
    "The time to remediate is counted from the time\n",
    "someone acknowledged the problem,\n",
    "until the time a solution is in place.\n",
    "This can be tricky to count,\n",
    "especially as partial mitigations are put in.\n",
    "\n",
    "If there's some sense of the\n",
    "\"partiality\"\n",
    "of a mitigation,\n",
    "it can be scaled.\n",
    "For example,\n",
    "remediation that fixed 50%\n",
    "of the problem\n",
    "after 1 hour,\n",
    "and then fixed the problem fully\n",
    "in another one,\n",
    "is considered to have taken\n",
    "1 and a half hours.\n",
    "\n",
    "```{=latex}\n",
    "\\begin{frame}\n",
    "\\frametitle{Time to remediate}\n",
    "\n",
    "Known problem\n",
    "\n",
    "\\end{frame}\n",
    "```"
   ]
  },
  {
   "cell_type": "markdown",
   "metadata": {
    "tags": []
   },
   "source": [
    "### Harm"
   ]
  },
  {
   "cell_type": "markdown",
   "metadata": {
    "tags": []
   },
   "source": [
    "An incident's cost to the business can be broken down into two:\n",
    "immediate cost and reputational cost."
   ]
  },
  {
   "cell_type": "markdown",
   "metadata": {
    "tags": []
   },
   "source": [
    "```{=latex}\n",
    "\\begin{frame}\n",
    "\\frametitle{Cost}\n",
    "\n",
    "Immediate \\pause\n",
    "\n",
    "Reputational\n",
    "\n",
    "\\end{frame}\n",
    "```"
   ]
  },
  {
   "cell_type": "markdown",
   "metadata": {
    "tags": []
   },
   "source": [
    "The immediate cost is the value of business lost due to the degradation.\n",
    "If there is a payment,\n",
    "or discount,\n",
    "because of missed SLAs,\n",
    "this falls under this category.\n",
    "If there an immediate loss of income,\n",
    "such as lost sales revenue\n",
    "or ad revenue,\n",
    "this is also part of the immediate cost.\n",
    "\n",
    "Immediate costs are more straightforward to estimate.\n",
    "They are also,\n",
    "usually,\n",
    "not the bulk of the cost."
   ]
  },
  {
   "cell_type": "markdown",
   "metadata": {
    "tags": []
   },
   "source": [
    "```{=latex}\n",
    "\\begin{frame}\n",
    "\\frametitle{Immediate harm}\n",
    "\n",
    "SLA missed \\pause\n",
    "\n",
    "Business missed\n",
    "\n",
    "\\end{frame}\n",
    "```"
   ]
  },
  {
   "cell_type": "markdown",
   "metadata": {},
   "source": [
    "Reputational cost is everything else.\n",
    "Bad customer feedback\n",
    "undoing PR costs.\n",
    "Customers leaving,\n",
    "or reducing their expenditures.\n",
    "Finally,\n",
    "an incident can result in lowered future customer acqusition.\n",
    "\n",
    "These costs are incredibly hard to estimate.\n",
    "They are also important to estimate,\n",
    "when building a business case for investing\n",
    "in better alerts:\n",
    "ones that reduce duration of degradation as well as its impact.\n",
    "\n",
    "Problems being difficult are not a reason to avoid them.\n",
    "They are a reason to work harder,\n",
    "and learn more."
   ]
  },
  {
   "cell_type": "markdown",
   "metadata": {
    "tags": []
   },
   "source": [
    "```{=latex}\n",
    "\\begin{frame}\n",
    "\\frametitle{Reputation harm}\n",
    "\n",
    "Customer feedback \\pause\n",
    "\n",
    "Customer continued business \\pause\n",
    "\n",
    "New customer acquisition\n",
    "\n",
    "\\end{frame}\n",
    "```"
   ]
  },
  {
   "cell_type": "markdown",
   "metadata": {},
   "source": [
    "### Secondary incidents"
   ]
  },
  {
   "cell_type": "markdown",
   "metadata": {
    "tags": []
   },
   "source": [
    "Finally,\n",
    "often while trying to fix one problem,\n",
    "or diagnose it,\n",
    "other incidents are caused.\n",
    "This is normal,\n",
    "expected,\n",
    "and unfortunate.\n",
    "\n",
    "The costs of these secondary incidents should also be measured.\n",
    "\n",
    "```{=latex}\n",
    "\\begin{frame}\n",
    "\\frametitle{Secondary incidents cost}\n",
    "\n",
    "Any degradation caused by remediations/mitigations\n",
    "\\end{frame}\n",
    "```"
   ]
  },
  {
   "cell_type": "markdown",
   "metadata": {},
   "source": [
    "## Balancing costs"
   ]
  },
  {
   "cell_type": "markdown",
   "metadata": {
    "tags": []
   },
   "source": [
    "Now that there is a sense of how to measure the current cost of alerts,\n",
    "it is important to see what it is,\n",
    "and how it tracks with other costs.\n",
    "This is the baseline from which to improve,\n",
    "so it is important to understand it.\n",
    "It is also important to understand what the value would be in\n",
    "improving the alerts.\n",
    "\n",
    "```{=latex}\n",
    "\\begin{frame}\n",
    "\\frametitle{Measuring value}\n",
    "\n",
    "What would constitute \"better\"?\n",
    "\n",
    "\\end{frame}\n",
    "```"
   ]
  },
  {
   "cell_type": "markdown",
   "metadata": {},
   "source": [
    "### Gathering data"
   ]
  },
  {
   "cell_type": "markdown",
   "metadata": {
    "tags": []
   },
   "source": [
    "The first part is to gather the data.\n",
    "The value in breaking down the metrics\n",
    "is that,\n",
    "ideally,\n",
    "data on each one can be gathered separately.\n",
    "\n",
    "Some data will not be available,\n",
    "or too hard to acquire.\n",
    "When you need to,\n",
    "give estimates.\n",
    "These estimates should be clearly marked,\n",
    "indicate what they are based on,\n",
    "and include confidence intervals.\n",
    "\n",
    "```{=latex}\n",
    "\\begin{frame}\n",
    "\\frametitle{Gather data}\n",
    "\n",
    "Estimate when you need to\n",
    "\n",
    "\\end{frame}\n",
    "```"
   ]
  },
  {
   "cell_type": "markdown",
   "metadata": {
    "tags": []
   },
   "source": [
    "### Deciding on priorities"
   ]
  },
  {
   "cell_type": "markdown",
   "metadata": {
    "tags": []
   },
   "source": [
    "The next step is to consolidate the data,\n",
    "and deciding which parts of it are\n",
    "\"bad\".\n",
    "These are things that should be changed.\n",
    "\n",
    "For example,\n",
    "it might be that the time to remediate is low,\n",
    "but time to detect is high.\n",
    "This means that time to detect should be decreased.\n",
    "\n",
    "These priorities should first,\n",
    "and formost,\n",
    "be determined by business strategic needs.\n",
    "These strategic needs \n",
    "should be translated to the tactical goals:\n",
    "what metrics needs to be reduced,\n",
    "by how much,\n",
    "and what is the value of that.\n",
    "\n",
    "```{=latex}\n",
    "\\begin{frame}\n",
    "\\frametitle{Priorities}\n",
    "\n",
    "Strategy \\pause\n",
    "\n",
    "Tactics\n",
    "\n",
    "\\end{frame}\n",
    "```"
   ]
  },
  {
   "cell_type": "markdown",
   "metadata": {},
   "source": [
    "### Tracking trailing OKRs"
   ]
  },
  {
   "cell_type": "markdown",
   "metadata": {
    "tags": []
   },
   "source": [
    "Gathering the data about an alert takes time.\n",
    "Getting a good enough sample of alerts\n",
    "takes time.\n",
    "\n",
    "Any changes you make to alerts,\n",
    "monitoring,\n",
    "reliability,\n",
    "or on-call rotations\n",
    "will not have an immediate effect.\n",
    "Alert quality is a good indicator,\n",
    "but one that\n",
    "*lags*\n",
    "badly.\n",
    "\n",
    "It is important track over the long term,\n",
    "but it is useful to have OKRs\n",
    "that are approximate,\n",
    "but easier to measure.\n",
    "\n",
    "```{=latex}\n",
    "\\begin{frame}\n",
    "\\frametitle{Tracking quality}\n",
    "\n",
    "Actual quality:\\pause\n",
    "\n",
    "Lagging indicator\n",
    "\n",
    "\\end{frame}\n",
    "```"
   ]
  },
  {
   "cell_type": "markdown",
   "metadata": {},
   "source": [
    "### Tracking immediate OKRs"
   ]
  },
  {
   "cell_type": "markdown",
   "metadata": {
    "tags": []
   },
   "source": [
    "There are several things that can be tracked more immediately.\n",
    "For example,\n",
    "counting false alarms is reasonably straightforward.\n",
    "Counting alarms on/off business hours is straightforward.\n",
    "Counting how many alarms had a useful runbook is straightforward.\n",
    "\n",
    "None of those are\n",
    "*exactly*\n",
    "alert quality,\n",
    "but they give quick approximations that can be tracked.\n",
    "Over the long term,\n",
    "check which OKRs\n",
    "track quality most closely.\n",
    "If an OKR is not a good approximation,\n",
    "drop it or modify it.\n",
    "\n",
    "```{=latex}\n",
    "\\begin{frame}\n",
    "\\frametitle{Tracking quality: immediate}\n",
    "\n",
    "Approximate quality \\pause\n",
    "\n",
    "Track that\n",
    "\n",
    "\\end{frame}\n",
    "```"
   ]
  },
  {
   "cell_type": "markdown",
   "metadata": {},
   "source": [
    "### Black swans\n",
    "\n",
    "It is easy to overfit on alert quality.\n",
    "A\n",
    "\"black swan\"\n",
    "is a rare event with an outsized impact.\n",
    "\n",
    "Even when measuring alert quality over a medium term,\n",
    "a once-in-a-year event is hard to account for.\n",
    "Those kind of alerts might have a high false alarm rate,\n",
    "but a true alarm can days of downtime.\n",
    "\n",
    "There are no hard and fast rules here.\n",
    "Only to avoid blindly following OKRs and quality measurements,\n",
    "remembering that they cannot tell the future perfectly."
   ]
  },
  {
   "cell_type": "markdown",
   "metadata": {
    "tags": []
   },
   "source": [
    "```{=latex}\n",
    "\\begin{frame}\n",
    "\\frametitle{Tracking quality: black swans}\n",
    "\n",
    "Take into account wide \"safety margins\"\n",
    "\n",
    "\\end{frame}\n",
    "```"
   ]
  },
  {
   "cell_type": "markdown",
   "metadata": {},
   "source": [
    "### Goodhart's law\n",
    "\n",
    "Alert quality should be carefully\n",
    "*not*\n",
    "made an instance of Goodhart's law.\n",
    "Tying people's compensations\n",
    "or performance reviews\n",
    "leads to endless litigation and arguing over definitions.\n",
    "\n",
    "Since alert quality is a\n",
    "*lagging*\n",
    "indicator,\n",
    "usually this ends up tying comp/perf\n",
    "to approximations\n",
    "which are trivially gameable.\n",
    "This is a good way to shoot the alert quality down hard."
   ]
  },
  {
   "cell_type": "markdown",
   "metadata": {
    "tags": []
   },
   "source": [
    "```{=latex}\n",
    "\\begin{frame}\n",
    "\\frametitle{Tracking quality: Goodhart's law}\n",
    "\n",
    "Not a target \\pause\n",
    "\n",
    "Feedback\n",
    "\n",
    "\\end{frame}\n",
    "```"
   ]
  },
  {
   "cell_type": "markdown",
   "metadata": {},
   "source": [
    "## Summary\n",
    "\n",
    "### Alert quality matters`"
   ]
  },
  {
   "cell_type": "markdown",
   "metadata": {
    "tags": []
   },
   "source": [
    "Alert quality really matters.\n",
    "Bad alert quality leads to frustrated developers,\n",
    "and frustrated customers.\n",
    "\n",
    "```{=latex}\n",
    "\\begin{frame}\n",
    "\\frametitle{Summary: Alert quality matters}\n",
    "\n",
    "Burn out \\pause\n",
    "\n",
    "Customer satisfaction\n",
    "\n",
    "\\end{frame}\n",
    "```"
   ]
  },
  {
   "cell_type": "markdown",
   "metadata": {},
   "source": [
    "### Alert quality take effort to track\n",
    "\n",
    "Tracking alert quality takes real effort.\n",
    "Gathering the data,\n",
    "estimating costs,\n",
    "figuring out all the details is hard work.\n",
    "\n",
    "It takes time and effort,\n",
    "and easy to deprioritize.\n"
   ]
  },
  {
   "cell_type": "markdown",
   "metadata": {
    "tags": []
   },
   "source": [
    "```{=latex}\n",
    "\\begin{frame}\n",
    "\\frametitle{Summary: Alert quality difficult to track}\n",
    "\n",
    "Time and effort!\n",
    "\n",
    "\\end{frame}\n",
    "```"
   ]
  },
  {
   "cell_type": "markdown",
   "metadata": {
    "tags": []
   },
   "source": [
    "### Improve and iterate\n",
    "\n",
    "Putting in this effort is a long-term investment.\n",
    "It allows measuring,\n",
    "fixing,\n",
    "and measuring the improvement.\n",
    "\n",
    "This is a process of constant improvement.\n",
    "The oppposite is a process of constant degradation of alert quality,\n",
    "as churn and legacy software build up.\n",
    "If there is no process to improve,\n",
    "eventually alerts will become completely useless."
   ]
  },
  {
   "cell_type": "markdown",
   "metadata": {
    "tags": []
   },
   "source": [
    "```{=latex}\n",
    "\\begin{frame}\n",
    "\\frametitle{Summary: Alert improvement}\n",
    "\n",
    "Measure \\pause\n",
    "\n",
    "Fix \\pause\n",
    "\n",
    "Iterate\n",
    "\n",
    "\\end{frame}\n",
    "```"
   ]
  },
  {
   "cell_type": "markdown",
   "metadata": {},
   "source": [
    "```{=latex}\n",
    "\\end{document}\n",
    "```"
   ]
  },
  {
   "cell_type": "code",
   "execution_count": null,
   "metadata": {},
   "outputs": [],
   "source": []
  }
 ],
 "metadata": {
  "kernelspec": {
   "display_name": "Python 3 (ipykernel)",
   "language": "python",
   "name": "python3"
  },
  "language_info": {
   "codemirror_mode": {
    "name": "ipython",
    "version": 3
   },
   "file_extension": ".py",
   "mimetype": "text/x-python",
   "name": "python",
   "nbconvert_exporter": "python",
   "pygments_lexer": "ipython3",
   "version": "3.10.2"
  },
  "toc-autonumbering": false
 },
 "nbformat": 4,
 "nbformat_minor": 4
}
